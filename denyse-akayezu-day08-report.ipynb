{
 "cells": [
  {
   "cell_type": "markdown",
   "metadata": {},
   "source": [
    "# PyPro: challenge 1 \n",
    "\n",
    "### This challenge is due on Sunday 29th September 2024 at 8pm.\n",
    "\n",
    "`These exercises provide a wide range of challenges that test your understanding of Python's core concepts, such as control structures, data types, string manipulations, list comprehensions, and higher-order functions.`\n"
   ]
  },
  {
   "cell_type": "markdown",
   "metadata": {},
   "source": [
    "#### Basic Tasks\n",
    "\n",
    "1. Create a function `find_max()` that accepts two numeric inputs and returns the greater value. Avoid using the built-in `max()` function.\n"
   ]
  },
  {
   "cell_type": "code",
   "execution_count": 64,
   "metadata": {},
   "outputs": [
    {
     "name": "stdout",
     "output_type": "stream",
     "text": [
      "Enter the first number x: 78\n",
      "Enter the second number y: 67\n",
      "x is max\n"
     ]
    }
   ],
   "source": [
    "def find_max():\n",
    "    x = int(input(\"Enter the first number x: \"))\n",
    "    y = int(input(\"Enter the second number y: \"))\n",
    "    \n",
    "    if x < y:\n",
    "        print(\"y is max\")\n",
    "    elif x > y:\n",
    "        print(\"x is max\")\n",
    "    else:\n",
    "        print(\"Both numbers are equal\")\n",
    "\n",
    "find_max()\n"
   ]
  },
  {
   "cell_type": "code",
   "execution_count": 60,
   "metadata": {},
   "outputs": [],
   "source": [
    "def find_max(x, y):\n",
    "    if x > y:\n",
    "        return x\n",
    "    else:\n",
    "        return y\n",
    "    "
   ]
  },
  {
   "cell_type": "markdown",
   "metadata": {},
   "source": [
    "2. Develop a function `find_max_of_three()` to find the maximum among three given numbers."
   ]
  },
  {
   "cell_type": "code",
   "execution_count": 66,
   "metadata": {},
   "outputs": [
    {
     "name": "stdout",
     "output_type": "stream",
     "text": [
      "Enter the first number x: 65\n",
      "Enter the second number y: 45\n",
      "Enter the third number z:23\n",
      "x is max\n"
     ]
    }
   ],
   "source": [
    "def find_max():\n",
    "    x = int(input(\"Enter the first number x: \"))\n",
    "    y = int(input(\"Enter the second number y: \"))\n",
    "    z = int(input(\"Enter the third number z:\"))\n",
    "    if x < y and z< y:\n",
    "        print(\"y is max\")\n",
    "    elif x > y and x>z:\n",
    "        print(\"x is max\")\n",
    "    else:\n",
    "        print(\"Both numbers are equal\")\n",
    "\n",
    "find_max()\n"
   ]
  },
  {
   "cell_type": "markdown",
   "metadata": {},
   "source": [
    "3. Write a function to manually calculate the length of a given list or string without using `len()`."
   ]
  },
  {
   "cell_type": "code",
   "execution_count": 41,
   "metadata": {},
   "outputs": [
    {
     "name": "stdout",
     "output_type": "stream",
     "text": [
      "1\n",
      "2\n",
      "3\n",
      "4\n",
      "5\n"
     ]
    }
   ],
   "source": [
    "def manual_length(string):\n",
    "    count = 0\n",
    "    for i in string:\n",
    "        count += 1\n",
    "        print( count)\n",
    "manual_length(\"hello\")"
   ]
  },
  {
   "cell_type": "markdown",
   "metadata": {},
   "source": [
    "4. Implement a function that checks if a given character is a vowel (a, e, i, o, u).\n",
    "   \n"
   ]
  },
  {
   "cell_type": "code",
   "execution_count": 15,
   "metadata": {},
   "outputs": [],
   "source": [
    "def vowel(char):\n",
    "    vowel=['a', 'e', 'i', 'o', 'u']\n",
    "    \n",
    "    if char in vowel:\n",
    "        print(char ,\" is a vowel\")\n",
    "\n",
    "    else:\n",
    "        print(char, ' is not vowel')\n",
    "   "
   ]
  },
  {
   "cell_type": "code",
   "execution_count": 16,
   "metadata": {
    "scrolled": true
   },
   "outputs": [
    {
     "name": "stdout",
     "output_type": "stream",
     "text": [
      "a  is a vowel\n"
     ]
    }
   ],
   "source": [
    "vowel('a')"
   ]
  },
  {
   "cell_type": "markdown",
   "metadata": {},
   "source": [
    "5. Write a function `encode()` that converts a string into \"rövarspråket\" ([robber's language](https://en.wikipedia.org/wiki/R%C3%B6varspr%C3%A5ket)) by doubling consonants and placing \"o\" in between, e.g., \"hello\" -> \"hohelollolo\"."
   ]
  },
  {
   "cell_type": "code",
   "execution_count": 7,
   "metadata": {},
   "outputs": [
    {
     "name": "stdout",
     "output_type": "stream",
     "text": [
      "Enter a string: denyse akayezu\n",
      "dodenonyoysose o akokayoyezozu\n"
     ]
    }
   ],
   "source": [
    "def encode():\n",
    "    n = input(\"Enter a string: \")\n",
    "    M = ['a', 'i', 'e', 'o', 'u']  \n",
    "    P = \"\"  \n",
    "    for i in n:\n",
    "        if i not in M:  \n",
    "            P += i + \"o\" + i \n",
    "        else:\n",
    "            P += i\n",
    "    print(P)  \n",
    "\n",
    "encode()\n"
   ]
  },
  {
   "cell_type": "markdown",
   "metadata": {},
   "source": [
    "6. Create `sum_elements()` and `product_elements()` functions to sum and multiply all elements in a list, respectively."
   ]
  },
  {
   "cell_type": "code",
   "execution_count": 96,
   "metadata": {},
   "outputs": [],
   "source": [
    "def sum_elements(numbers):\n",
    "    \"\"\"Calculates the sum of all elements in a list.\n",
    "\n",
    "    Args:\n",
    "        numbers: A list of numbers.\n",
    "\n",
    "    Returns:\n",
    "        The sum of the elements in the list.\n",
    "    \"\"\"\n",
    "    total = 0\n",
    "    for num in numbers:\n",
    "        total += num\n",
    "    return total\n",
    "\n",
    "def product_elements(numbers):\n",
    "    \"\"\"Calculates the product of all elements in a list.\n",
    "\n",
    "    Args:\n",
    "        numbers: A list of numbers.\n",
    "\n",
    "    Returns:\n",
    "        The product of the elements in the list.\n",
    "    \"\"\"\n",
    "    prod = 1\n",
    "    for num in numbers:\n",
    "        prod *= num\n",
    "    return prod\n"
   ]
  },
  {
   "cell_type": "markdown",
   "metadata": {
    "id": "sm-kMbirqqyt"
   },
   "source": [
    "\n",
    "\n",
    "\n",
    "\n",
    "\n",
    "\n",
    "\n",
    "\n",
    "\n",
    "\n",
    "\n",
    "7. Define a function `reverse_string()` to reverse the characters in a given string.\n",
    "\n",
    "8. Implement `check_palindrome()` to verify if a string reads the same forwards and backwards, i.e. is a [palindrome](https://en.wikipedia.org/wiki/Palindrome).\n",
    "\n",
    "9. Develop a function `check_membership()` to determine if a value exists within a list.\n",
    "\n",
    "10. Write `check_overlap()` to identify if two lists share any elements.\n",
    "\n",
    "11. Implement `repeat_char()` that generates a string with a specified character repeated `n` times.\n",
    "\n",
    "12. Create a function `print_histogram()` that takes a list of integers and prints a corresponding histogram.\n",
    "\n",
    "13. Write `find_max_in_list()` to identify the largest number in a list of arbitrary length.\n",
    "\n",
    "14. Create a program that maps each word in a list to its length.\n",
    "\n",
    "15. Implement `longest_word()` to find the longest word in a list.\n",
    "\n",
    "16. Develop `filter_words()` to return words longer than a specified length from a list.\n",
    "\n",
    "17. Enhance the palindrome recognizer to handle phrases, ignoring spaces, punctuation, and case.\n",
    "\n",
    "18. Implement a function that checks if a given sentence is a [pangram](https://en.wikipedia.org/wiki/Pangram).\n",
    "\n",
    "19. Write a function that generates verses for the \"99 Bottles of Beer\" song.\n",
    "\n",
    "20. Create a translation function using a small dictionary to translate English words into French/.\n",
    "\n",
    "21. Develop `char_frequency()` to build a dictionary of character frequencies in a string.\n",
    "\n",
    "22. Implement a [Caesar cipher encoder/decoder using a shift of 13 (ROT-13)](https://en.wikipedia.org/wiki/ROT13).\n",
    "\n",
    "23. Create `fix_spaces()` to correct multiple spaces and missing spaces after periods in a text.\n",
    "\n",
    "24. Write `convert_to_third_person()` to transform verbs into their third person singular form.\n",
    "\n",
    "25. Implement `make_ing_form()` to convert verbs into their present participle form using heuristic rules.\n",
    "\n",
    "\n",
    "\n",
    "\n",
    "\n",
    "#### Higher-Order Functions and List Comprehensions\n",
    "\n",
    "26. Use `reduce()` to write `max_in_list()` that returns the largest number in a list.\n",
    "\n",
    "27. Write a program that maps words to their lengths using a for-loop, `map()`, and list comprehensions.\n",
    "\n",
    "28. Implement `find_longest_word()` using only higher-order functions.\n",
    "\n",
    "29. Use `filter()` to write `filter_long_words()` that filters words longer than `n`.\n",
    "\n",
    "30. Create `translate_with_map()` to translate English words to French using `map()`.\n",
    "\n",
    "31. Re-implement the higher-order functions `map()`, `filter()`, and `reduce()` from scratch.\n",
    "\n",
    "\n",
    "\n",
    "\n",
    "\n",
    "#### Simple Tasks with I/O\n",
    "\n",
    "32. Write a palindrome recognizer that reads lines from a file and prints only the palindromes.\n",
    "\n",
    "33. Implement a [semordnilap](https://en.wiktionary.org/wiki/semordnilap) recognizer that finds word pairs from a file where each word is the reverse of the other.\n",
    "\n",
    "34. Create `char_frequency_table()` to display a sorted character frequency table from a file.\n",
    "\n",
    "35. Write a function `speak_ICAO()` that translates text into the [ICAO phonetic alphabet](https://en.wikipedia.org/wiki/NATO_phonetic_alphabet).\n",
    "\n",
    "36. Implement `find_hapaxes()` to identify words that occur only once in a text file.\n",
    "\n",
    "37. Write a program that numbers each line in a text file.\n",
    "\n",
    "38. Calculate the average word length in a text file.\n",
    "\n",
    "39. Implement a number-guessing game where the user guesses a number between 1 and 20.\n",
    "\n",
    "40. Write a program that presents an [anagram](https://en.wikipedia.org/wiki/Anagram) of a randomly chosen word and allows the user to guess the original.\n",
    "\n",
    "41. Create a [Lingo game](https://en.wikipedia.org/wiki/Lingo_(American_game_show)) where players guess a hidden word, receiving clues about correct and misplaced characters.\n",
    "\n",
    "\n",
    "\n",
    "#### Advanced Tasks\n",
    "\n",
    "42. Develop a sentence splitter that separates a text into sentences based on various heuristics.\n",
    "\n",
    "43. Write a program to find the largest group of anagrams in a given word list.\n",
    "\n",
    "44. Generate a string of balanced brackets and verify if it is balanced.\n",
    "\n",
    "45. Create a word chain game where each word starts with the last letter of the previous one, using a list of [Pokemon names](https://en.wikipedia.org/wiki/List_of_Pok%C3%A9mon)."
   ]
  }
 ],
 "metadata": {
  "colab": {
   "provenance": []
  },
  "kernelspec": {
   "display_name": "Python 3",
   "language": "python",
   "name": "python3"
  },
  "language_info": {
   "codemirror_mode": {
    "name": "ipython",
    "version": 3
   },
   "file_extension": ".py",
   "mimetype": "text/x-python",
   "name": "python",
   "nbconvert_exporter": "python",
   "pygments_lexer": "ipython3",
   "version": "3.9.2"
  }
 },
 "nbformat": 4,
 "nbformat_minor": 1
}
