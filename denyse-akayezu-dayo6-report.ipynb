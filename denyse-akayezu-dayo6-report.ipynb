{
 "cells": [
  {
   "cell_type": "markdown",
   "id": "israeli-fetish",
   "metadata": {},
   "source": [
    "Exercise1 a)"
   ]
  },
  {
   "cell_type": "code",
   "execution_count": 64,
   "id": "illegal-dryer",
   "metadata": {
    "scrolled": true
   },
   "outputs": [
    {
     "name": "stdout",
     "output_type": "stream",
     "text": [
      "enter a number7\n",
      "18\n"
     ]
    }
   ],
   "source": [
    "\n",
    "summ = 0\n",
    "x= int(input(\"enter a number\"))\n",
    "for i in range(x):\n",
    "    if (i%2 != 0):\n",
    "        c = i +3\n",
    "        summ =summ+c\n",
    "print(summ)"
   ]
  },
  {
   "cell_type": "markdown",
   "id": "academic-benjamin",
   "metadata": {},
   "source": [
    "b)"
   ]
  },
  {
   "cell_type": "code",
   "execution_count": 61,
   "id": "neural-coffee",
   "metadata": {},
   "outputs": [
    {
     "name": "stdout",
     "output_type": "stream",
     "text": [
      "enter a number3\n",
      "15\n"
     ]
    }
   ],
   "source": [
    "\n",
    "prod = 1\n",
    "x= int(input(\"enter a number\"))\n",
    "for i in range(x):\n",
    "    if(i%2== 0):\n",
    "        prod=prod*(i+3)\n",
    "print(prod)        \n"
   ]
  },
  {
   "cell_type": "markdown",
   "id": "outside-palestine",
   "metadata": {},
   "source": [
    "Exercise2"
   ]
  },
  {
   "cell_type": "code",
   "execution_count": 48,
   "id": "ahead-chess",
   "metadata": {},
   "outputs": [],
   "source": [
    "def day_of_week(day_number):\n",
    "  \"\"\"Prints the name of the day of the week based on the given number.\n",
    "\n",
    "  Args:\n",
    "    day_number: The number of the day of the week (0-6).\n",
    "  \"\"\"\n",
    "\n",
    "  days_of_week = [\"Monday\", \"Tuesday\", \"Wednesday\", \"Thursday\", \"Friday\", \"Saturday\", \"Sunday\"]\n",
    "\n",
    "  if day_number >= 0 and day_number <= 6:\n",
    "    if day_number < 5:\n",
    "      print(days_of_week[day_number])\n",
    "    else:\n",
    "      print(\"Weekend\")\n",
    "  \n",
    "    "
   ]
  },
  {
   "cell_type": "markdown",
   "id": "robust-seven",
   "metadata": {},
   "source": [
    "Exercise 3"
   ]
  },
  {
   "cell_type": "code",
   "execution_count": 49,
   "id": "hearing-glenn",
   "metadata": {},
   "outputs": [
    {
     "name": "stdout",
     "output_type": "stream",
     "text": [
      "February has 28 days.\n"
     ]
    }
   ],
   "source": [
    "def days_in_month(month_number):\n",
    "  \"\"\"Returns the number of days in a given month (ignoring leap years).\n",
    "\n",
    "  Args:\n",
    "    month_number: The number of the month (0-11).\n",
    "\n",
    "  Returns:\n",
    "    The number of days in the given month.\n",
    "  \"\"\"\n",
    "\n",
    "  months = [31, 28, 31, 30, 31, 30, 31, 31, 30, 31, 30, 31]\n",
    "  return months[month_number]\n",
    "\n",
    "# Example usage:\n",
    "month_number = 1  # February\n",
    "days = days_in_month(month_number)\n",
    "print(f\"February has {days} days.\")\n"
   ]
  },
  {
   "cell_type": "code",
   "execution_count": 51,
   "id": "civilian-revision",
   "metadata": {},
   "outputs": [
    {
     "name": "stdout",
     "output_type": "stream",
     "text": [
      "denyse\n",
      "denyse\n",
      "denyse\n",
      "denyse\n",
      "denyse\n",
      "denyse\n"
     ]
    }
   ],
   "source": [
    "# Version 1: Using a for loop\n",
    "name = \"denyse\"\n",
    "for i in range(3):\n",
    "  print(name)\n",
    "\n",
    "# Version 2: Using a while loop\n",
    "name = \"denyse\"\n",
    "count = 0\n",
    "while count < 3:\n",
    "  print(name)\n",
    "  count += 1\n"
   ]
  },
  {
   "cell_type": "code",
   "execution_count": 53,
   "id": "quiet-sodium",
   "metadata": {},
   "outputs": [
    {
     "name": "stdout",
     "output_type": "stream",
     "text": [
      "Enter the first term (a0): 2\n",
      "Enter the second term (a1): 3\n",
      "The first 15 terms of the Fibonacci sequence are:\n",
      "[2, 3, 5, 8, 13, 21, 34, 55, 89, 144, 233, 377, 610, 987, 1597]\n"
     ]
    }
   ],
   "source": [
    "def fibonacci(a0, a1, n):\n",
    "  \"\"\"Calculates the first n terms of a Fibonacci sequence.\n",
    "\n",
    "  Args:\n",
    "    a0: The first term of the sequence.\n",
    "    a1: The second term of the sequence.\n",
    "    n: The number of terms to calculate.\n",
    "\n",
    "  Returns:\n",
    "    A list containing the first n terms of the Fibonacci sequence.\n",
    "  \"\"\"\n",
    "\n",
    "  sequence = [a0, a1]\n",
    "  for i in range(2, n):\n",
    "    next_term = sequence[i - 1] + sequence[i - 2]\n",
    "    sequence.append(next_term)\n",
    "  return sequence\n",
    "\n",
    "# Get initial values from the user\n",
    "a0 = int(input(\"Enter the first term (a0): \"))\n",
    "a1 = int(input(\"Enter the second term (a1): \"))\n",
    "\n",
    "# Calculate the first 15 terms\n",
    "n = 15\n",
    "fibonacci_sequence = fibonacci(a0, a1, n)\n",
    "\n",
    "# Print the sequence\n",
    "print(\"The first 15 terms of the Fibonacci sequence are:\")\n",
    "print(fibonacci_sequence)\n"
   ]
  },
  {
   "cell_type": "code",
   "execution_count": 54,
   "id": "ready-preference",
   "metadata": {},
   "outputs": [
    {
     "name": "stdout",
     "output_type": "stream",
     "text": [
      "Enter the first term (x0): 4\n",
      "Enter the second term (x1): 5\n",
      "The first 30 terms of the sequence are:\n",
      "[4.0, 5.0, 14.5, 22.25, 54.625, 94.0625, 210.90625, 387.640625, 826.5390625, 1576.19140625, 3267.712890625, 6362.4306640625, 12984.35400390625, 25579.468994140625, 51742.79650878906, 102609.8052368164, 206533.2921447754, 411096.0617828369, 825147.9073257446, 1645862.139011383, 3298374.7914829254, 6586773.812775612, 13188511.280836582, 26354577.078745127, 52742822.38188231, 105435142.42717654, 210946038.3592352, 421778446.4611472, 843727338.3082793, 1687199008.537581]\n"
     ]
    }
   ],
   "source": [
    "def sequence_generator(x0, x1, n):\n",
    "  \"\"\"Generates the first n terms of the sequence defined by 2xn+2 - xn+1 - 6xn = 0.\n",
    "\n",
    "  Args:\n",
    "    x0: The first term of the sequence.\n",
    "    x1: The second term of the sequence.\n",
    "    n: The number of terms to generate.\n",
    "\n",
    "  Returns:\n",
    "    A list containing the first n terms of the sequence.\n",
    "  \"\"\"\n",
    "\n",
    "  sequence = [x0, x1]\n",
    "  for i in range(2, n):\n",
    "    next_term = (sequence[i - 1] + 6 * sequence[i - 2]) / 2\n",
    "    sequence.append(next_term)\n",
    "  return sequence\n",
    "\n",
    "# Get initial values from the user\n",
    "x0 = float(input(\"Enter the first term (x0): \"))\n",
    "x1 = float(input(\"Enter the second term (x1): \"))\n",
    "\n",
    "# Calculate the first 30 terms\n",
    "n = 30\n",
    "sequence = sequence_generator(x0, x1, n)\n",
    "\n",
    "# Print the sequence\n",
    "print(\"The first 30 terms of the sequence are:\")\n",
    "print(sequence)\n"
   ]
  },
  {
   "cell_type": "code",
   "execution_count": 57,
   "id": "vital-safety",
   "metadata": {},
   "outputs": [],
   "source": [
    "def is_leap_year(year):\n",
    "  \"\"\"Determines whether a given year is a leap year.\n",
    "\n",
    "  Args:\n",
    "    year: The year to check.\n",
    "\n",
    "  Returns:\n",
    "    True if the year is a leap year, False otherwise.  \n",
    "\n",
    "  \"\"\"\n",
    "\n",
    "  # A leap year is divisible by 4, but not by 100, unless it's also divisible by 400.\n",
    "  return (year % 4 == 0) and (year % 100 != 0 or year % 400 == 0)"
   ]
  },
  {
   "cell_type": "code",
   "execution_count": 59,
   "id": "stunning-prior",
   "metadata": {},
   "outputs": [
    {
     "name": "stdout",
     "output_type": "stream",
     "text": [
      "Sum of squares using for loop: 55\n",
      "Sum of squares using while loop: 55\n"
     ]
    }
   ],
   "source": [
    "# Version 1: Using a for loop\n",
    "def sum_of_squares_for(n):\n",
    "  \"\"\"Computes the sum of the squares of the first n natural numbers using a for loop.\n",
    "\n",
    "  Args:\n",
    "    n: The number of natural numbers to sum.\n",
    "\n",
    "  Returns:\n",
    "    The sum of the squares of the first n natural numbers.\n",
    "  \"\"\"\n",
    "\n",
    "  sum = 0\n",
    "  for i in range(1, n + 1):\n",
    "    sum += i * i\n",
    "  return sum\n",
    "\n",
    "# Version 2: Using a while loop\n",
    "def sum_of_squares_while(n):\n",
    "  \"\"\"Computes the sum of the squares of the first n natural numbers using a while loop.\n",
    "\n",
    "  Args:\n",
    "    n: The number of natural numbers to sum.\n",
    "\n",
    "  Returns:\n",
    "    The sum of the squares of the first n natural numbers.\n",
    "  \"\"\"\n",
    "\n",
    "  sum = 0\n",
    "  i = 1\n",
    "  while i <= n:\n",
    "    sum += i * i\n",
    "    i += 1\n",
    "  return sum\n",
    "\n",
    "# Example usage\n",
    "n = 5\n",
    "result_for = sum_of_squares_for(n)\n",
    "result_while = sum_of_squares_while(n)\n",
    "print(\"Sum of squares using for loop:\", result_for)\n",
    "print(\"Sum of squares using while loop:\", result_while)"
   ]
  },
  {
   "cell_type": "code",
   "execution_count": 60,
   "id": "basic-mistress",
   "metadata": {},
   "outputs": [
    {
     "name": "stdout",
     "output_type": "stream",
     "text": [
      "Smallest n using for loop: 7\n",
      "Smallest n using while loop: 8\n"
     ]
    }
   ],
   "source": [
    "# Version 1: Using a for loop\n",
    "def find_smallest_n_for(M):\n",
    "  \"\"\"Finds the smallest natural number n such that 1^2 + 2^2 + ... + n^2 >= M.\n",
    "\n",
    "  Args:\n",
    "    M: The target sum.\n",
    "\n",
    "  Returns:\n",
    "    The smallest natural number n that satisfies the condition.\n",
    "  \"\"\"\n",
    "\n",
    "  sum_of_squares = 0\n",
    "  for n in range(1, M + 1):\n",
    "    sum_of_squares += n * n\n",
    "    if sum_of_squares >= M:\n",
    "      return n\n",
    "\n",
    "# Version 2: Using a while loop\n",
    "def find_smallest_n_while(M):\n",
    "  \"\"\"Finds the smallest natural number n such that 1^2 + 2^2 + ... + n^2 >= M.\n",
    "\n",
    "  Args:\n",
    "    M: The target sum.\n",
    "\n",
    "  Returns:\n",
    "    The smallest natural number n that satisfies the condition.\n",
    "  \"\"\"\n",
    "\n",
    "  sum_of_squares = 0\n",
    "  n = 1\n",
    "  while sum_of_squares < M:\n",
    "    sum_of_squares += n * n\n",
    "    n += 1\n",
    "  return n\n",
    "\n",
    "# Example usage\n",
    "M = 100\n",
    "result_for = find_smallest_n_for(M)\n",
    "result_while = find_smallest_n_while(M)\n",
    "print(\"Smallest n using for loop:\", result_for)\n",
    "print(\"Smallest n using while loop:\", result_while)"
   ]
  },
  {
   "cell_type": "code",
   "execution_count": null,
   "id": "rental-karaoke",
   "metadata": {},
   "outputs": [],
   "source": []
  }
 ],
 "metadata": {
  "kernelspec": {
   "display_name": "Python 3",
   "language": "python",
   "name": "python3"
  },
  "language_info": {
   "codemirror_mode": {
    "name": "ipython",
    "version": 3
   },
   "file_extension": ".py",
   "mimetype": "text/x-python",
   "name": "python",
   "nbconvert_exporter": "python",
   "pygments_lexer": "ipython3",
   "version": "3.9.2"
  }
 },
 "nbformat": 4,
 "nbformat_minor": 5
}
